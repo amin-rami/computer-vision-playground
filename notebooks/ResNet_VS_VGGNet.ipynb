{
  "nbformat": 4,
  "nbformat_minor": 0,
  "metadata": {
    "colab": {
      "provenance": [],
      "gpuType": "A100",
      "machine_shape": "hm"
    },
    "kernelspec": {
      "name": "python3",
      "display_name": "Python 3"
    },
    "language_info": {
      "name": "python"
    },
    "accelerator": "GPU"
  },
  "cells": [
    {
      "cell_type": "code",
      "execution_count": null,
      "metadata": {
        "id": "z43D_VrQCjVX"
      },
      "outputs": [],
      "source": [
        "!git init\n",
        "!git remote add origin https://github.com/amin-rami/computer-vision-playground.git\n",
        "!git fetch\n",
        "!git checkout main\n",
        "!git pull"
      ]
    },
    {
      "cell_type": "code",
      "source": [
        "import torch\n",
        "import models\n",
        "import training\n",
        "from utils.data import FastDataset\n",
        "from functools import partial\n",
        "from torchvision import transforms\n",
        "from torchvision import datasets\n",
        "from torch.utils.data import DataLoader"
      ],
      "metadata": {
        "id": "_SJ648d6C2Fd"
      },
      "execution_count": null,
      "outputs": []
    },
    {
      "cell_type": "markdown",
      "source": [
        "# Data"
      ],
      "metadata": {
        "id": "LCZlIVrcHvJZ"
      }
    },
    {
      "cell_type": "code",
      "source": [
        "num_classes = 10\n",
        "device = 'cuda' if torch.cuda.is_available() else 'cpu'\n",
        "\n",
        "def one_hot(label, n_classes):\n",
        "    y = torch.zeros((n_classes,))\n",
        "    y[label] = 1\n",
        "    return y\n",
        "\n",
        "train_transform = transforms.Compose(\n",
        "    [\n",
        "    transforms.ToTensor(),\n",
        "    transforms.Normalize((0.4914, 0.4822, 0.4465), (0.2023, 0.1994, 0.2010)),\n",
        "    ]\n",
        ")\n",
        "\n",
        "train_post_transform = transforms.Compose(\n",
        "    [\n",
        "    transforms.RandomCrop(32, padding=4),\n",
        "    transforms.RandomHorizontalFlip(),\n",
        "    ]\n",
        ")\n",
        "\n",
        "test_transform = transforms.Compose(\n",
        "    [\n",
        "    transforms.ToTensor(),\n",
        "    transforms.Normalize((0.4914, 0.4822, 0.4465), (0.2023, 0.1994, 0.2010)),\n",
        "    ]\n",
        ")\n",
        "\n",
        "target_transform = transforms.Compose(\n",
        "    [\n",
        "        partial(one_hot, n_classes=num_classes),\n",
        "    ]\n",
        ")\n",
        "\n",
        "train_data = datasets.CIFAR10(\n",
        "    root=\"data\",\n",
        "    train=True,\n",
        "    download=True,\n",
        ")\n",
        "test_data = datasets.CIFAR10(\n",
        "    root=\"data\",\n",
        "    train=False,\n",
        "    download=True,\n",
        ")\n",
        "\n",
        "train_data = FastDataset(train_data, transform=train_transform, post_transform=train_post_transform, target_transform=target_transform)\n",
        "test_data = FastDataset(test_data, transform=test_transform, target_transform=target_transform)"
      ],
      "metadata": {
        "id": "-mT94Co6DYZs"
      },
      "execution_count": null,
      "outputs": []
    },
    {
      "cell_type": "code",
      "source": [
        "train_dataloader = DataLoader(train_data, batch_size=1024, shuffle=True, num_workers=12)\n",
        "test_dataloader = DataLoader(test_data, batch_size=2048, num_workers=12)"
      ],
      "metadata": {
        "id": "74LXf3fQTZJ2"
      },
      "execution_count": null,
      "outputs": []
    },
    {
      "cell_type": "code",
      "source": [
        "resnet, vggnet = models.from_config_file(\"configs/model.json\")\n",
        "resnet = resnet.to(device)\n",
        "vggnet = vggnet.to(device)"
      ],
      "metadata": {
        "id": "FAdHMhOsMrqI"
      },
      "execution_count": null,
      "outputs": []
    },
    {
      "cell_type": "code",
      "source": [
        "resnet_optimizer = torch.optim.Adam(resnet.parameters())\n",
        "resnet_lr_scheduler = torch.optim.lr_scheduler.StepLR(resnet_optimizer, 30, 0.5)\n",
        "resnet_loop = training.TrainLoop(\n",
        "    model=resnet,\n",
        "    optimizer=resnet_optimizer,\n",
        "    loss_fn=torch.nn.CrossEntropyLoss(),\n",
        "    train_dataloader=train_dataloader,\n",
        "    epoches=120,\n",
        "    device=device,\n",
        "    lr_scheduler=resnet_lr_scheduler,\n",
        "    test_every=5,\n",
        "    val_dataloader=test_dataloader,\n",
        "    save_every=5,\n",
        "    root=\"/results/resnet\"\n",
        ")"
      ],
      "metadata": {
        "id": "j-KPJbgtKfEM"
      },
      "execution_count": null,
      "outputs": []
    },
    {
      "cell_type": "code",
      "source": [
        "resnet_loop.train()"
      ],
      "metadata": {
        "id": "Z7Nuo8Q6_9Mk"
      },
      "execution_count": null,
      "outputs": []
    },
    {
      "cell_type": "code",
      "source": [
        "vggnet_optimizer = torch.optim.Adam(vggnet.parameters())\n",
        "vggnet_lr_scheduler = torch.optim.lr_scheduler.StepLR(vggnet_optimizer, 30, 0.5)\n",
        "vggnet_loop = training.TrainLoop(\n",
        "    model=vggnet,\n",
        "    optimizer=vggnet_optimizer,\n",
        "    loss_fn=torch.nn.CrossEntropyLoss(),\n",
        "    train_dataloader=train_dataloader,\n",
        "    epoches=120,\n",
        "    device=device,\n",
        "    lr_scheduler=vggnet_lr_scheduler,\n",
        "    test_every=5,\n",
        "    val_dataloader=test_dataloader,\n",
        "    save_every=10,\n",
        "    root=\"/results/vggnet\"\n",
        ")\n"
      ],
      "metadata": {
        "id": "hsVafzJFgEZv"
      },
      "execution_count": null,
      "outputs": []
    },
    {
      "cell_type": "code",
      "source": [
        "vggnet_loop.train()"
      ],
      "metadata": {
        "id": "GNiQUwq94RJ1"
      },
      "execution_count": null,
      "outputs": []
    }
  ]
}